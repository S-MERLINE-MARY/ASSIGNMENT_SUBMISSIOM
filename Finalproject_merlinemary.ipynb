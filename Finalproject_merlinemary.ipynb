{
  "nbformat": 4,
  "nbformat_minor": 0,
  "metadata": {
    "colab": {
      "name": "Finalproject_merlinemary.ipynb",
      "provenance": [],
      "authorship_tag": "ABX9TyNXyyfFpIbQv1ICjyIhbLnL",
      "include_colab_link": true
    },
    "kernelspec": {
      "name": "python3",
      "display_name": "Python 3"
    },
    "language_info": {
      "name": "python"
    }
  },
  "cells": [
    {
      "cell_type": "markdown",
      "metadata": {
        "id": "view-in-github",
        "colab_type": "text"
      },
      "source": [
        "<a href=\"https://colab.research.google.com/github/S-MERLINE-MARY/ASSIGNMENT_SUBMISSIOM/blob/main/Finalproject_merlinemary.ipynb\" target=\"_parent\"><img src=\"https://colab.research.google.com/assets/colab-badge.svg\" alt=\"Open In Colab\"/></a>"
      ]
    },
    {
      "cell_type": "code",
      "metadata": {
        "colab": {
          "base_uri": "https://localhost:8080/"
        },
        "id": "hacLsTmj-9Nb",
        "outputId": "180397aa-8f4c-4d58-c7a5-8616030ac1a9"
      },
      "source": [
        "#project\n",
        "#celsius to fahrenhiet convertion\n",
        "celsius = input(\"enter the celsius value: \")\n",
        "temp = float(celsius)\n",
        "(fahrenheit) = (temp * 9/5) + 32\n",
        "print('fahrenheit:' ,fahrenheit)"
      ],
      "execution_count": null,
      "outputs": [
        {
          "output_type": "stream",
          "text": [
            "enter the celsius value: 50\n",
            "fahrenheit: 122.0\n"
          ],
          "name": "stdout"
        }
      ]
    }
  ]
}